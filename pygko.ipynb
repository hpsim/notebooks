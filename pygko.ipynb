{
 "cells": [
  {
   "cell_type": "code",
   "execution_count": 1,
   "id": "7cc02b62-3f4f-43c8-84b9-29f1d675a8bc",
   "metadata": {},
   "outputs": [],
   "source": [
    "import pygko\n",
    "import numpy as np\n",
    "import scipy"
   ]
  },
  {
   "cell_type": "code",
   "execution_count": 2,
   "id": "7da0d25d-c893-4dca-b6b3-229fa1d53e54",
   "metadata": {
    "tags": []
   },
   "outputs": [],
   "source": [
    "# dir(pygko)"
   ]
  },
  {
   "cell_type": "code",
   "execution_count": 3,
   "id": "db7b1921-a6b6-463d-a8d6-ba6af8a8b233",
   "metadata": {
    "tags": []
   },
   "outputs": [],
   "source": [
    "# dir(pygko.matrix)"
   ]
  },
  {
   "cell_type": "code",
   "execution_count": 4,
   "id": "b9018ef1-1b04-4c55-bea9-84145b61fd56",
   "metadata": {
    "tags": []
   },
   "outputs": [],
   "source": [
    "# help(pygko.matrix.Dense)"
   ]
  },
  {
   "cell_type": "markdown",
   "id": "afec177b-e2a8-4810-ac46-c2e9094a202f",
   "metadata": {},
   "source": [
    "# Create Executors"
   ]
  },
  {
   "cell_type": "code",
   "execution_count": 5,
   "id": "f7bef511-3f5d-49bb-a62f-678da239ce5c",
   "metadata": {},
   "outputs": [
    {
     "name": "stdout",
     "output_type": "stream",
     "text": [
      "<pygko.CudaExecutor object at 0x14ac73e565b0>\n"
     ]
    }
   ],
   "source": [
    "ref = pygko.ReferenceExecutor()\n",
    "omp = pygko.OmpExecutor()\n",
    "try:\n",
    "    device = pygko.allocation_mode.device \n",
    "    cuda = pygko.CudaExecutor(0, omp, False, device)\n",
    "    print(cuda)\n",
    "    executor = cuda\n",
    "except Exception as e:\n",
    "    executor = ref\n",
    "    print(e)"
   ]
  },
  {
   "cell_type": "markdown",
   "id": "24e4ac15-88f2-4dbb-bb8b-0f017b2dd998",
   "metadata": {},
   "source": [
    "# Create Dense from numpy array"
   ]
  },
  {
   "cell_type": "code",
   "execution_count": 6,
   "id": "5a2a8d75-e8bf-4090-a940-45ccb08e639d",
   "metadata": {},
   "outputs": [
    {
     "data": {
      "text/plain": [
       "array([ 2.,  4.,  6.,  8., 10.])"
      ]
     },
     "execution_count": 6,
     "metadata": {},
     "output_type": "execute_result"
    }
   ],
   "source": [
    "numpy_array = np.array([1.,2.,3.,4.,5.])\n",
    "dense = pygko.matrix.Dense(cuda, numpy_array)\n",
    "scalar =  pygko.matrix.Dense(cuda,  np.array([2.]))\n",
    "dense.scale(scalar)\n",
    "np.array(dense.copy_to_host())"
   ]
  },
  {
   "cell_type": "markdown",
   "id": "7181c503-10c9-4e5a-9758-7a31db416999",
   "metadata": {
    "tags": []
   },
   "source": [
    "# Read from disk"
   ]
  },
  {
   "cell_type": "code",
   "execution_count": 6,
   "id": "ee367a6b-2c88-4258-849d-781c863d4d0f",
   "metadata": {},
   "outputs": [],
   "source": [
    "path = \"/hkfs/home/project/hk-project-test-fine/eq4036/data/code/ginkgo/examples/simple-solver/data/\"\n",
    "\n",
    "scipy_b =scipy.io.mmread(path + \"b.mtx\")\n",
    "b = pygko.matrix.Dense(executor, scipy_b)\n",
    "\n",
    "scipy_x = scipy.io.mmread(path + \"x0.mtx\")\n",
    "x = pygko.matrix.Dense(executor, scipy_x)\n",
    "\n",
    "A = pygko.read_coo(path + \"A.mtx\", executor)"
   ]
  },
  {
   "cell_type": "code",
   "execution_count": 7,
   "id": "a35e1e71-fc11-4c6f-8630-8729bf4beafe",
   "metadata": {},
   "outputs": [
    {
     "name": "stdout",
     "output_type": "stream",
     "text": [
      "<class 'pygko.matrix.Dense'> <class 'pygko.matrix.Dense'> <class 'pygko.matrix.Coo'>\n"
     ]
    }
   ],
   "source": [
    "print(type(b),type(x), type(A))"
   ]
  },
  {
   "cell_type": "markdown",
   "id": "a0529a2a-114a-4c80-abae-5ec16d42466b",
   "metadata": {},
   "source": [
    "# Create Stopping Criterion"
   ]
  },
  {
   "cell_type": "code",
   "execution_count": 8,
   "id": "ed9bccc8-53c7-43b8-b9b4-4b39de75fc73",
   "metadata": {},
   "outputs": [],
   "source": [
    "stop = pygko.stop.Iteration(executor, 1000)\n",
    "preconditioner = pygko.preconditioner.Jacobi(executor, 16)"
   ]
  },
  {
   "cell_type": "markdown",
   "id": "b919d6d3-1665-4cb6-bd27-a11e979a2cb6",
   "metadata": {
    "tags": []
   },
   "source": [
    "# Create Solver"
   ]
  },
  {
   "cell_type": "code",
   "execution_count": 9,
   "id": "571ae490-18a0-4d03-ad52-a92edf700fe1",
   "metadata": {},
   "outputs": [
    {
     "data": {
      "text/plain": [
       "<pygko.solver.Cg at 0x14ac4d532170>"
      ]
     },
     "execution_count": 9,
     "metadata": {},
     "output_type": "execute_result"
    }
   ],
   "source": [
    "cg = pygko.solver.Cg(executor, A, [stop, preconditioner])\n",
    "cg.apply(b, x)"
   ]
  },
  {
   "cell_type": "code",
   "execution_count": 10,
   "id": "db9652f7-587f-4323-b2da-bd558e0569e0",
   "metadata": {},
   "outputs": [],
   "source": [
    "np_zero = np.array([0.0])\n",
    "np_one = np.array([1.0])\n",
    "np_neg_one = np.array([-1.0])\n",
    "\n",
    "one = pygko.matrix.Dense(executor, np_one)\n",
    "neg_one = pygko.matrix.Dense(executor, np_neg_one)\n",
    "res = pygko.matrix.Dense(executor, np_zero)"
   ]
  },
  {
   "cell_type": "code",
   "execution_count": 11,
   "id": "0f34320d-2b49-474b-ba3b-4268fec6c4dc",
   "metadata": {},
   "outputs": [
    {
     "data": {
      "text/plain": [
       "pygko.matrix.Coo object"
      ]
     },
     "execution_count": 11,
     "metadata": {},
     "output_type": "execute_result"
    }
   ],
   "source": [
    "A.apply(one, x, neg_one, b)"
   ]
  },
  {
   "cell_type": "code",
   "execution_count": 12,
   "id": "944b82e2-ba26-4eb7-9f04-5e9850db9557",
   "metadata": {},
   "outputs": [
    {
     "name": "stdout",
     "output_type": "stream",
     "text": [
      "[7.13053648e-16]\n"
     ]
    }
   ],
   "source": [
    "b.compute_norm2(res)\n",
    "print(np.array(res.copy_to_host(),copy=True))"
   ]
  }
 ],
 "metadata": {
  "kernelspec": {
   "display_name": "Python 3 (ipykernel)",
   "language": "python",
   "name": "python3"
  },
  "language_info": {
   "codemirror_mode": {
    "name": "ipython",
    "version": 3
   },
   "file_extension": ".py",
   "mimetype": "text/x-python",
   "name": "python",
   "nbconvert_exporter": "python",
   "pygments_lexer": "ipython3",
   "version": "3.8.6"
  }
 },
 "nbformat": 4,
 "nbformat_minor": 5
}
